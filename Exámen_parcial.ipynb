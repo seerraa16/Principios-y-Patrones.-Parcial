{
 "cells": [
  {
   "cell_type": "markdown",
   "metadata": {},
   "source": [
    "# Teoria parcial"
   ]
  },
  {
   "cell_type": "markdown",
   "metadata": {},
   "source": [
    "## **Pregunta 1 (1 Punto):**\n",
    "### Explique en detalle el principio SOLID **\"Open/Closed\"** y proporcione un ejemplo de código en Python donde este principio se ha violado y cómo puede corregirlo."
   ]
  },
  {
   "cell_type": "markdown",
   "metadata": {},
   "source": [
    "El principo \"Open/Closed\" de SOLID nos explica que los modulos de software deben ser abiertos para su extension pero cerrados para su modificación. Que es lo que esto significa?\n",
    "- Abierto para la extensión: Hablando pronto y mal significa que podemos cambiar lo que hace el modulo, pero usando un lenguaje tecnico esto significa que el comportamiento del modulo puede extenderse. Por ejemplo si los requisitos de la aplicacion van cambiando, el modulo permite su modificación para así satisfacer los cambios.\n",
    "- Cerrado para su modificación: Un modulo se dice que esta cerrado si tiene una interface estable y bien definida. Es decir que si el modulo es modificado, este no debe modificar el codigo anterior.\n",
    "\n",
    "Y esa es realmente la esencia de este principio. Debería ser fácil cambiar\n",
    "el comportamiento de un módulo sin cambiar el código fuente de ese\n",
    "módulo. Esto no significa que nunca cambiará el código fuente. Lo que\n",
    "significa es que debemos esforzarnos por lograr que nuestro código esté\n",
    "estructurado de forma que, cuando el comportamiento cambie de la\n",
    "manera esperada, no debamos hacer cambios radicales en todos los\n",
    "módulos del sistema. Idealmente, podremos agregar el nuevo\n",
    "comportamiento, añadiendo código nuevo y cambiando poco o nada del\n",
    "código antiguo.\n",
    "La forma de implementar este principio en el mundo práctico, es a\n",
    "través del polimorfismo, ya sea por interfaces o clases abstractas.\n",
    "\n",
    "\n",
    "Explicación del codigo; \n",
    "En el codigo anterior, importamos desde django la clase AbstractUser y después, ampliamos la clase con bio, location y birth_date, pero esto lo hacemos sin modificar la clase anterior de \"AbstractUser\", sino que lo hacemos heredando dicha clase. Cumpliendo asi con el principio de Open/Close"
   ]
  },
  {
   "cell_type": "code",
   "execution_count": 39,
   "metadata": {},
   "outputs": [],
   "source": [
    "# Ejemplo Violacion del principio de Open/Closed\n",
    "class coche:\n",
    "    def __init__(self, marca, modelo, color):\n",
    "        self.marca = marca\n",
    "        self.modelo = modelo\n",
    "        self.color = color\n",
    "                                                                                                                                                                                                                        \n"
   ]
  },
  {
   "cell_type": "markdown",
   "metadata": {},
   "source": [
    "Explicación del codigo; \n",
    "En el codigo anterior, importamos desde django la clase AbstractUser y después, ampliamos la clase con bio, location y birth_date, pero esto lo hacemos sin modificar la clase anterior de \"AbstractUser\", sino que lo hacemos heredando dicha clase. Cumpliendo asi con el principio de Open/Close"
   ]
  },
  {
   "cell_type": "markdown",
   "metadata": {},
   "source": [
    "## Pregunta 2(1 Punto):\n",
    "\n",
    "### Describa el patrón de diseño \"Factory\". ¿En qué situaciones sería útil este patrón? Proporcione un ejemplo de cómo implementaría este patrón en Python para un problema relacionado con la ingeniería matemática, como la creación de diferentes tipos de funciones matemáticas."
   ]
  },
  {
   "cell_type": "markdown",
   "metadata": {},
   "source": [
    "El patrón de diseño Factory es un patrón creacional que se utiliza para crear objetos sin especificar la clase exacta del objeto que se va a crear. La idea principal del patrón Factory es delegar la responsabilidad de crear instancias a una clase llamada Factory (fábrica), que decide qué clase instanciar en función de ciertos parámetros o condiciones."
   ]
  },
  {
   "cell_type": "code",
   "execution_count": 40,
   "metadata": {},
   "outputs": [],
   "source": [
    "from abc import ABC, abstractmethod\n",
    "import math\n",
    "class FuncionMatematica(ABC):\n",
    "    @abstractmethod\n",
    "    def calcular(self, x):\n",
    "        pass\n",
    "class FuncionLineal(FuncionMatematica):\n",
    "    def __init__(self, m, b):\n",
    "        self.m = m\n",
    "        self.b = b\n",
    "\n",
    "    def calcular(self, x):\n",
    "        return self.m * x + self.b\n",
    "class FuncionCuadratica(FuncionMatematica):\n",
    "    def __init__(self, a, b, c):\n",
    "        self.a = a\n",
    "        self.b = b\n",
    "        self.c = c\n",
    "\n",
    "    def calcular(self, x):\n",
    "        return self.a * x ** 2 + self.b * x + self.c\n",
    "class FuncionExponencial(FuncionMatematica):\n",
    "    def __init__(self, a, b):\n",
    "        self.a = a\n",
    "        self.b = b\n",
    "\n",
    "    def calcular(self, x):\n",
    "        return self.a * math.exp(self.b * x)\n",
    "class FuncionFactory:\n",
    "    @staticmethod\n",
    "    def crear_funcion(tipo, *args):\n",
    "        if tipo == 'lineal':\n",
    "            return FuncionLineal(*args)\n",
    "        elif tipo == 'cuadratica':\n",
    "            return FuncionCuadratica(*args)\n",
    "        elif tipo == 'exponencial':\n",
    "            return FuncionExponencial(*args)\n",
    "        else:\n",
    "            raise ValueError(f\"Tipo de función '{tipo}' no reconocido\")\n",
    "\n",
    "factory = FuncionFactory()\n",
    "\n"
   ]
  },
  {
   "cell_type": "markdown",
   "metadata": {},
   "source": [
    "## Pregunta 3(1 Punto):"
   ]
  },
  {
   "cell_type": "markdown",
   "metadata": {},
   "source": [
    "### Explique el antipatrón \"God Object\". ¿Por qué es perjudicial este antipatrón y qué problemas puede causar en el desarrollo de software? Proporcione un ejemplo de un \"God Object\" en un contexto de ingeniería matemática y explique cómo podría refactorizarlo para evitar este antipatrón."
   ]
  },
  {
   "cell_type": "markdown",
   "metadata": {},
   "source": [
    "\"God Object\" se refiere a una situación en la que un solo objeto (o clase) en un sistema de software asume demasiadas responsabilidades y controla la mayor parte de la lógica del programa. Este objeto se convierte en un punto de concentración de funcionalidad, lo que puede llevar a varios problemas en el desarrollo de software. LOs problemas que pueden darse son los siguientes; Baja cohesion, ya que hace tanto que tiende a cambiar reduciendo asi la cohesión; Alto acoplamiento, que quiere decir esto? pues que con el God Object hacemos que el sistema sea frágil y dificil de modificar; Dificultad en la comprension, un objeto que tiene mucha logica hace que sea dificil de entender y mantener. Y por ultimo que es dificil de escalar ya que a medida que el sistema crece, entonces el God Object se convierte en un cuello de botella."
   ]
  },
  {
   "cell_type": "code",
   "execution_count": 41,
   "metadata": {},
   "outputs": [],
   "source": [
    "class MathEngine:\n",
    "    def calculate_statistics(self, data):\n",
    "        mean = sum(data) / len(data)\n",
    "        median = self.calculate_median(data)\n",
    "        variance = self.calculate_variance(data)\n",
    "        return mean, median, variance\n",
    "\n",
    "    def calculate_median(self, data):\n",
    "        sorted_data = sorted(data)\n",
    "        mid = len(data) // 2\n",
    "        if len(data) % 2 == 0:\n",
    "            return (sorted_data[mid - 1] + sorted_data[mid]) / 2\n",
    "        else:\n",
    "            return sorted_data[mid]\n",
    "\n",
    "    def calculate_variance(self, data):\n",
    "        mean = sum(data) / len(data)\n",
    "        return sum((x - mean) ** 2 for x in data) / len(data)\n",
    "\n",
    "    def generate_report(self, stats):\n",
    "        report = f\"Media: {stats[0]}\\nMediana: {stats[1]}\\nVarianza: {stats[2]}\"\n",
    "        return report\n",
    "\n",
    "    def save_to_file(self, report, filename):\n",
    "        with open(filename, 'w') as f:\n",
    "            f.write(report)\n",
    "\n",
    "\n"
   ]
  },
  {
   "cell_type": "markdown",
   "metadata": {},
   "source": [
    "Como podemos ver este es un claro ejemplo de 'God Object'. Donde mathengine hace todas las funciones, provocando que si editamos algo, pueda haber fallos. Entonces para hacer que esto sea un codigo mas eficiente debemos separar los calculos estadisticos como  la mediana, el mean y la varianza de los reportes asi como el informe y guardar archivo."
   ]
  },
  {
   "cell_type": "code",
   "execution_count": 42,
   "metadata": {},
   "outputs": [],
   "source": [
    "# Problema arreglado\n",
    "class StatisticsCalculator:\n",
    "    def calculate_mean(self, data):\n",
    "        return sum(data) / len(data)\n",
    "\n",
    "    def calculate_median(self, data):\n",
    "        sorted_data = sorted(data)\n",
    "        mid = len(data) // 2\n",
    "        if len(data) % 2 == 0:\n",
    "            return (sorted_data[mid - 1] + sorted_data[mid]) / 2\n",
    "        else:\n",
    "            return sorted_data[mid]\n",
    "\n",
    "    def calculate_variance(self, data):\n",
    "        mean = self.calculate_mean(data)\n",
    "        return sum((x - mean) ** 2 for x in data) / len(data)\n",
    "\n",
    "\n",
    "class ReportGenerator:\n",
    "    def generate_report(self, stats):\n",
    "        return f\"Media: {stats[0]}\\nMediana: {stats[1]}\\nVarianza: {stats[2]}\"\n",
    "\n",
    "    def save_to_file(self, report, filename):\n",
    "        with open(filename, 'w') as f:\n",
    "            f.write(report)\n",
    "\n"
   ]
  },
  {
   "cell_type": "markdown",
   "metadata": {},
   "source": [
    "## Pregunta 4(1 Punto):"
   ]
  },
  {
   "cell_type": "markdown",
   "metadata": {},
   "source": [
    "### Los principios DRY (Don't Repeat Yourself) y KISS (Keep It Simple, Stupid) son fundamentales para escribir código de alta calidad. Proporcione un ejemplo de un fragmento de código Python que viole estos principios. Describa cómo lo refactorizaría para adherirse a los principios DRY y KISS."
   ]
  },
  {
   "cell_type": "markdown",
   "metadata": {},
   "source": [
    "Codigo que viola estos dos principios\n"
   ]
  },
  {
   "cell_type": "code",
   "execution_count": 43,
   "metadata": {},
   "outputs": [],
   "source": [
    "def calcular_precio_con_impuesto(precio):\n",
    "    impuesto = 0.21  \n",
    "    precio_con_impuesto = precio + (precio * impuesto)\n",
    "    print(f\"El precio con impuesto es: {precio_con_impuesto}\")\n",
    "\n",
    "def calcular_precio_con_impuesto_descuento(precio, descuento):\n",
    "    impuesto = 0.21  \n",
    "    precio_con_descuento = precio - descuento\n",
    "    precio_final = precio_con_descuento + (precio_con_descuento * impuesto)\n",
    "    print(f\"El precio con descuento y con impuesto es: {precio_final}\")\n",
    "\n",
    "\n"
   ]
  },
  {
   "cell_type": "markdown",
   "metadata": {},
   "source": [
    "Refactorizacion de estos dos \n"
   ]
  },
  {
   "cell_type": "code",
   "execution_count": 44,
   "metadata": {},
   "outputs": [],
   "source": [
    "impuesto = 0.21\n",
    "def calcular_precio_con_impuesto(precio): \n",
    "    precio_con_impuesto = precio + (precio * impuesto)\n",
    "    print(f\"El precio con impuesto es: {precio_con_impuesto}\")\n",
    "\n",
    "def calcular_precio_con_impuesto_descuento(precio, descuento):\n",
    "    precio_con_descuento = precio - descuento\n",
    "    precio_final = precio_con_descuento + (precio_con_descuento * impuesto)\n",
    "    print(f\"El precio con descuento y con impuesto es: {precio_final}\")\n"
   ]
  },
  {
   "cell_type": "markdown",
   "metadata": {},
   "source": [
    "## Pregunta 5(1 Punto):"
   ]
  },
  {
   "cell_type": "markdown",
   "metadata": {},
   "source": [
    "### El patrón de diseño \"Observer\" permite que un objeto notifique a otros objetos sobre los cambios en su estado. Describa una situación en el contexto de la ingeniería matemática donde este patrón sería útil. Implemente un ejemplo simple de este patrón en Python para ilustrar su respuesta."
   ]
  },
  {
   "cell_type": "markdown",
   "metadata": {},
   "source": [
    "Imaginemos una aplicación de simulación de sistemas dinámicos, donde un modelo matemático puede cambiar de estado debido a diferentes factores, como el tiempo, parámetros de entrada, o condiciones iniciales. Por ejemplo, en la simulación del comportamiento de un sistema físico (como un resorte o un péndulo), diferentes variables (como la posición y velocidad) deben ser actualizadas y visualizadas en tiempo real.\n",
    "\n",
    "En este caso, el modelo del sistema puede actuar como el sujeto, y los gráficos o visualizaciones pueden actuar como los observadores que necesitan ser actualizados cada vez que el estado del sistema cambia."
   ]
  },
  {
   "cell_type": "code",
   "execution_count": 45,
   "metadata": {},
   "outputs": [
    {
     "name": "stdout",
     "output_type": "stream",
     "text": [
      "Graph updated: Current state is 10\n",
      "Logger: State changed to 10\n",
      "Graph updated: Current state is 20\n",
      "Logger: State changed to 20\n",
      "Graph updated: Current state is 30\n"
     ]
    }
   ],
   "source": [
    "class Subject:\n",
    "    def __init__(self):\n",
    "        self._observers = []\n",
    "        self._state = 0\n",
    "\n",
    "    def attach(self, observer):\n",
    "        self._observers.append(observer)\n",
    "\n",
    "    def detach(self, observer):\n",
    "        self._observers.remove(observer)\n",
    "\n",
    "    def notify(self):\n",
    "        for observer in self._observers:\n",
    "            observer.update(self._state)\n",
    "\n",
    "    def set_state(self, state):\n",
    "        self._state = state\n",
    "        self.notify()\n",
    "\n",
    "\n",
    "class Observer:\n",
    "    def update(self, state):\n",
    "        pass\n",
    "\n",
    "\n",
    "class Graph(Observer):\n",
    "    def update(self, state):\n",
    "        print(f\"Graph updated: Current state is {state}\")\n",
    "\n",
    "\n",
    "class Logger(Observer):\n",
    "    def update(self, state):\n",
    "        print(f\"Logger: State changed to {state}\")\n",
    "\n",
    "\n",
    "# Ejemplo de uso\n",
    "if __name__ == \"__main__\":\n",
    "    # Crear el sujeto\n",
    "    subject = Subject()\n",
    "\n",
    "    # Crear observadores\n",
    "    graph = Graph()\n",
    "    logger = Logger()\n",
    "\n",
    "    # Adjuntar observadores al sujeto\n",
    "    subject.attach(graph)\n",
    "    subject.attach(logger)\n",
    "\n",
    "    # Cambiar el estado del sujeto\n",
    "    subject.set_state(10)\n",
    "    subject.set_state(20)\n",
    "\n",
    "    # Desconectar un observador\n",
    "    subject.detach(logger)\n",
    "    subject.set_state(30)\n"
   ]
  },
  {
   "cell_type": "markdown",
   "metadata": {},
   "source": [
    "## Ejercicio 1 practico"
   ]
  },
  {
   "cell_type": "markdown",
   "metadata": {},
   "source": [
    "Enunciado\n"
   ]
  },
  {
   "cell_type": "code",
   "execution_count": 46,
   "metadata": {},
   "outputs": [
    {
     "name": "stdout",
     "output_type": "stream",
     "text": [
      "4.14159\n"
     ]
    }
   ],
   "source": [
    "class Shape:\n",
    "    def __init__(self, type):\n",
    "        self.type = type\n",
    "\n",
    "class AreaCalculator:\n",
    "    def __init__(self, shapes):\n",
    "        self.shapes = shapes\n",
    "\n",
    "    def total_area(self):\n",
    "        total = 0\n",
    "        for shape in self.shapes:\n",
    "            if shape.type == \"circle\":\n",
    "                radius = 1.0  # Supongamos que el radio es siempre 1 para este ejemplo\n",
    "                total += 3.14159 * radius * radius\n",
    "            elif shape.type == \"square\":\n",
    "                side = 1.0  # Supongamos que el lado es siempre 1 para este ejemplo\n",
    "                total += side * side\n",
    "        return total\n",
    "\n",
    "shapes = [Shape(\"circle\"), Shape(\"square\")]\n",
    "calculator = AreaCalculator(shapes)\n",
    "print(calculator.total_area())"
   ]
  },
  {
   "cell_type": "markdown",
   "metadata": {},
   "source": [
    "Solucion, con codigo arreglado."
   ]
  },
  {
   "cell_type": "code",
   "execution_count": 47,
   "metadata": {},
   "outputs": [
    {
     "name": "stdout",
     "output_type": "stream",
     "text": [
      "4.1416\n"
     ]
    }
   ],
   "source": [
    "from abc import ABC, abstractmethod\n",
    "class Shape(ABC):\n",
    "    @abstractmethod\n",
    "    def area(self):\n",
    "        pass\n",
    "class Circle(Shape):\n",
    "    def __init__(self, radius):\n",
    "        self.radius = radius\n",
    "\n",
    "    def area(self):\n",
    "        return 3.1416 * self.radius * self.radius\n",
    "class Square(Shape):\n",
    "    def __init__(self, side):\n",
    "        self.side = side\n",
    "\n",
    "    def area(self):\n",
    "        return self.side * self.side\n",
    "\n",
    "class AreaCalculator:\n",
    "    def __init__(self, shapes):\n",
    "        self.shapes = shapes\n",
    "\n",
    "    def total_area(self):\n",
    "        total = 0\n",
    "        for shape in self.shapes:\n",
    "            total += shape.area()\n",
    "        return total\n",
    "\n",
    "# Ejemplo de uso\n",
    "shapes = [Circle(1.0), Square(1.0)]\n",
    "calculator = AreaCalculator(shapes)\n",
    "print(calculator.total_area())\n",
    "\n",
    "\n"
   ]
  },
  {
   "cell_type": "markdown",
   "metadata": {},
   "source": [
    "## Pregunta Práctica 2: Implementación de Patrón de Diseño Estrategia(2,5 Puntos)"
   ]
  },
  {
   "cell_type": "markdown",
   "metadata": {},
   "source": [
    "### En ingeniería matemática, es común que necesitemos intercambiar diferentes algoritmos dependiendo de la situación. Considere una aplicación que debe realizar la integración numérica de una función. Hay diferentes métodos para realizar esta integración, como el método del trapecio, el método de Simpson, la cuadratura gaussiana, entre otros.\n",
    "\n",
    "### Se le pide que implemente este escenario utilizando el patrón de diseño estrategia. Debe proporcionar una estructura que permita cambiar fácilmente el método de integración. Incluya al menos dos métodos específicos (por ejemplo, Trapecio y Simpson) y demuestre cómo se podrían cambiar estos métodos en tiempo de ejecución."
   ]
  },
  {
   "cell_type": "markdown",
   "metadata": {},
   "source": []
  }
 ],
 "metadata": {
  "kernelspec": {
   "display_name": "Python 3",
   "language": "python",
   "name": "python3"
  },
  "language_info": {
   "codemirror_mode": {
    "name": "ipython",
    "version": 3
   },
   "file_extension": ".py",
   "mimetype": "text/x-python",
   "name": "python",
   "nbconvert_exporter": "python",
   "pygments_lexer": "ipython3",
   "version": "3.10.11"
  }
 },
 "nbformat": 4,
 "nbformat_minor": 2
}
